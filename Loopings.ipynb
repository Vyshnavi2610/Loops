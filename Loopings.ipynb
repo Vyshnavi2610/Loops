{
 "cells": [
  {
   "cell_type": "code",
   "execution_count": 8,
   "metadata": {},
   "outputs": [
    {
     "name": "stdout",
     "output_type": "stream",
     "text": [
      "87687345 c is the biggest number\n"
     ]
    }
   ],
   "source": [
    "#Looping\n",
    "\n",
    "#if\n",
    "\n",
    "#Biggest number\n",
    "\n",
    "a=int(input(\"Enter a value:\"))\n",
    "b=int(input(\"Enter b value:\"))\n",
    "c=int(input(\"Enter c value:\"))\n",
    "if a>b and a>c:\n",
    "    print(a,\"a is the biggest number\")\n",
    "if b>a and b>c:\n",
    "    print(b,\"b is the biggest number\")\n",
    "if c>a and c>b:\n",
    "    print(c,\"c is the biggest number\")\n",
    "\n",
    "        "
   ]
  },
  {
   "cell_type": "code",
   "execution_count": 2,
   "metadata": {},
   "outputs": [
    {
     "name": "stdout",
     "output_type": "stream",
     "text": [
      "Century\n"
     ]
    }
   ],
   "source": [
    "#elif\n",
    "\n",
    "#Age\n",
    "\n",
    "age=int(input(\"Enter Age:-\"))\n",
    "if age >= 0 and age <=3:\n",
    "    print(\"Baby\")\n",
    "elif age >3 and age <=6:\n",
    "    print(\"Kid\")\n",
    "elif age >6 and age <=12:\n",
    "    print(\"Child\")\n",
    "elif age >12 and age <=19:\n",
    "    print(\"Teenager\")\n",
    "elif age >19 and age <=30:\n",
    "    print(\"Adult\")\n",
    "elif age >30 and age <=50:\n",
    "    print(\"Mid-Age\")\n",
    "elif age >50 and age <60:\n",
    "    print(\"Getting old\")\n",
    "elif age >60 and age <=70:\n",
    "    print(\"Older\")\n",
    "elif age >70 and age <=99:\n",
    "    print(\"Granny's\")\n",
    "else:\n",
    "    print(\"Century\")\n",
    "    "
   ]
  },
  {
   "cell_type": "code",
   "execution_count": 8,
   "metadata": {},
   "outputs": [
    {
     "name": "stdout",
     "output_type": "stream",
     "text": [
      "YOU MUST BE ATLEAST 18 YEARS OLD.\n"
     ]
    }
   ],
   "source": [
    "#Nested if\n",
    "\n",
    "#Eligible for loan\n",
    "\n",
    "age_eligible=int(input(\"Enter age:-\"))\n",
    "income=int(input(\"Enter your income\"))\n",
    "\n",
    "if age_eligible >=18:\n",
    "    if income >=25000:\n",
    "        print(\"YOU ARE ELIGIBLE FOR LOAN.\")\n",
    "    else:\n",
    "        print(\"YOUR INCOME IS TOO LOW.\")\n",
    "        \n",
    "else:\n",
    "    print(\"YOU MUST BE ATLEAST 18 YEARS OLD.\")\n"
   ]
  },
  {
   "cell_type": "code",
   "execution_count": 10,
   "metadata": {},
   "outputs": [
    {
     "name": "stdout",
     "output_type": "stream",
     "text": [
      "0 1 1 2 3 5 8 13 21 34 "
     ]
    }
   ],
   "source": [
    "#for\n",
    "\n",
    "#fibanocci\n",
    "\n",
    "def fib():\n",
    "    f,s=0,1\n",
    "    while True:\n",
    "        yield f\n",
    "        f,s=s,f+s\n",
    "for x in fib():\n",
    "    if x>50:\n",
    "        break\n",
    "    print(x, end=\" \")"
   ]
  },
  {
   "cell_type": "code",
   "execution_count": 11,
   "metadata": {},
   "outputs": [
    {
     "name": "stdout",
     "output_type": "stream",
     "text": [
      "Sum of num: 21\n"
     ]
    }
   ],
   "source": [
    "#while\n",
    "\n",
    "num=int(input(\"Enter num:\"))\n",
    "if(num <= 0):\n",
    "    print(\"Enter valid number\")\n",
    "else:\n",
    "    sum=0\n",
    "    while(num>0):\n",
    "        sum+=num\n",
    "        num-=1\n",
    "print(\"Sum of num:\",sum)"
   ]
  },
  {
   "cell_type": "code",
   "execution_count": 12,
   "metadata": {},
   "outputs": [
    {
     "name": "stdout",
     "output_type": "stream",
     "text": [
      "1\n",
      "2\n",
      "3\n",
      "Number 4 found. Exiting loop.\n"
     ]
    }
   ],
   "source": [
    "#break using for\n",
    "\n",
    "numbers = [1, 2, 3, 4, 5]\n",
    "\n",
    "for num in numbers:\n",
    "    if num == 4:\n",
    "        print(\"Number 4 found. Exiting loop.\")\n",
    "        break\n",
    "    print(num)\n"
   ]
  },
  {
   "cell_type": "code",
   "execution_count": 13,
   "metadata": {},
   "outputs": [
    {
     "name": "stdout",
     "output_type": "stream",
     "text": [
      "1\n",
      "2\n",
      "3\n",
      "4\n",
      "5\n",
      "Number 5 reached. Exiting loop.\n"
     ]
    }
   ],
   "source": [
    "#break using while\n",
    "\n",
    "num = 1\n",
    "\n",
    "while num <= 10:\n",
    "    print(num)\n",
    "    if num == 5:\n",
    "        print(\"Number 5 reached. Exiting loop.\")\n",
    "        break\n",
    "    num += 1\n"
   ]
  },
  {
   "cell_type": "code",
   "execution_count": 15,
   "metadata": {},
   "outputs": [
    {
     "name": "stdout",
     "output_type": "stream",
     "text": [
      "1\n",
      "2\n",
      "4\n",
      "5\n",
      "6\n",
      "7\n",
      "8\n",
      "9\n"
     ]
    }
   ],
   "source": [
    "#continue\n",
    "\n",
    "nested_list = [[1, 2, 3], [4, 5, 6], [7, 8, 9]]\n",
    " \n",
    "for i in nested_list:\n",
    "    for j in i:\n",
    "        if j == 3:\n",
    "            continue\n",
    "        print(j)"
   ]
  },
  {
   "cell_type": "code",
   "execution_count": 16,
   "metadata": {},
   "outputs": [
    {
     "name": "stdout",
     "output_type": "stream",
     "text": [
      "b\n",
      "c\n",
      "d\n"
     ]
    }
   ],
   "source": [
    "#pass\n",
    "\n",
    "list =['a', 'b', 'c', 'd']\n",
    " \n",
    "for i in list:\n",
    "    if(i =='a'):\n",
    "        pass\n",
    "    else:\n",
    "        print(i)"
   ]
  },
  {
   "cell_type": "code",
   "execution_count": 17,
   "metadata": {},
   "outputs": [
    {
     "name": "stdout",
     "output_type": "stream",
     "text": [
      "String of length 5\n",
      "Integer value: 10\n",
      "Float value: 3.14\n",
      "Integer value: True\n"
     ]
    }
   ],
   "source": [
    "#match\n",
    "\n",
    "def process_data(data):\n",
    "    match data:\n",
    "        case str(s):\n",
    "            return f\"String of length {len(s)}\"\n",
    "        case int(n):\n",
    "            return f\"Integer value: {n}\"\n",
    "        case float(f):\n",
    "            return f\"Float value: {f}\"\n",
    "        case _:\n",
    "            return \"Unknown data type\"\n",
    "\n",
    "print(process_data(\"Hello\"))\n",
    "print(process_data(10))\n",
    "print(process_data(3.14))\n",
    "print(process_data(True))\n",
    "    "
   ]
  }
 ],
 "metadata": {
  "kernelspec": {
   "display_name": "Python 3",
   "language": "python",
   "name": "python3"
  },
  "language_info": {
   "codemirror_mode": {
    "name": "ipython",
    "version": 3
   },
   "file_extension": ".py",
   "mimetype": "text/x-python",
   "name": "python",
   "nbconvert_exporter": "python",
   "pygments_lexer": "ipython3",
   "version": "3.12.0"
  }
 },
 "nbformat": 4,
 "nbformat_minor": 2
}
